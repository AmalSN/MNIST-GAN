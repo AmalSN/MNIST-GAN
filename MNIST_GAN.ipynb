{
  "cells": [
    {
      "cell_type": "code",
      "execution_count": null,
      "metadata": {
        "id": "rgnVXQD9_c0r"
      },
      "outputs": [],
      "source": [
        "import numpy as np\n",
        "import math\n",
        "import matplotlib.pyplot as plt\n",
        "import torch\n",
        "import torch.nn.functional as F\n",
        "import torch.optim as optim\n",
        "from torch import Tensor\n",
        "from torch.utils.data import TensorDataset, DataLoader"
      ]
    },
    {
      "cell_type": "code",
      "execution_count": null,
      "metadata": {
        "id": "JJ84B2FotpZ2"
      },
      "outputs": [],
      "source": [
        "from keras.datasets import mnist\n",
        "\n",
        "(x_train, y_train), (x_test, y_test) = mnist.load_data()"
      ]
    },
    {
      "cell_type": "code",
      "execution_count": null,
      "metadata": {
        "id": "TzevNGJ8_Hqf"
      },
      "outputs": [],
      "source": [
        "x_train = (x_train/255.0).astype(np.float32)\n",
        "y_train = (y_train).astype(np.float32)\n",
        "x_test = (x_test/255.0).astype(np.float32)\n",
        "y_test = (y_test).astype(np.float32)\n",
        "\n",
        "x_train_tensor = torch.tensor(x_train)\n",
        "y_train_tensor = torch.tensor(y_train)\n",
        "x_test_tensor = torch.tensor(x_test)\n",
        "y_test_tensor = torch.tensor(y_test)\n",
        "\n",
        "train_dataset = TensorDataset(x_train_tensor,y_train_tensor)\n",
        "test_dataset = TensorDataset(x_test_tensor,y_test_tensor)\n",
        "\n",
        "train_dataloader = DataLoader(train_dataset,batch_size=1,shuffle=True)\n",
        "test_dataloader = DataLoader(test_dataset,batch_size=1)"
      ]
    },
    {
      "cell_type": "code",
      "execution_count": null,
      "metadata": {
        "id": "vht1marhc--i"
      },
      "outputs": [],
      "source": [
        "class Discriminator(torch.nn.Module):\n",
        "  \n",
        "  def __init__(self):\n",
        "    super(Discriminator, self).__init__()\n",
        "    self.conv1 = torch.nn.Conv2d(1,4,5)\n",
        "    self.conv2 = torch.nn.Conv2d(4,8,5)\n",
        "\n",
        "    self.pool = torch.nn.MaxPool2d(2,2)\n",
        "\n",
        "    self.flatten = torch.nn.Flatten(start_dim=0)\n",
        "    self.fc3 = torch.nn.Linear(4*4*8,256)\n",
        "    self.fc4 = torch.nn.Linear(256,10)\n",
        "    self.fc5 = torch.nn.Linear(10,1)\n",
        "\n",
        "    self.dropout = torch.nn.Dropout(0.25)\n",
        "\n",
        "  def forward(self,x):\n",
        "    x = F.relu(self.conv1(x))\n",
        "    x = self.pool(x)\n",
        "    x = F.relu(self.conv2(x))\n",
        "    x = self.pool(x)\n",
        "    x = self.flatten(x)\n",
        "    x = F.relu(self.fc3(x))\n",
        "    x = self.dropout(x)\n",
        "    x = F.relu(self.fc4(x))\n",
        "    x = torch.sigmoid(self.fc5(x))\n",
        "    return x"
      ]
    },
    {
      "cell_type": "code",
      "execution_count": null,
      "metadata": {
        "id": "OO-BYtWGrSeH"
      },
      "outputs": [],
      "source": [
        "class Generator(torch.nn.Module):\n",
        "  def __init__(self):\n",
        "    super(Generator, self).__init__()\n",
        "    self.fc1 = torch.nn.Linear(100,256)\n",
        "    self.fc2 = torch.nn.Linear(256,512)\n",
        "    self.fc3 = torch.nn.Linear(512,784)\n",
        "  \n",
        "  def forward(self):\n",
        "    x = torch.normal(torch.zeros(100),torch.ones(100))\n",
        "    x = F.relu(self.fc1(x))\n",
        "    x = F.relu(self.fc2(x))\n",
        "    x = torch.tanh(self.fc3(x))\n",
        "    x = x.view(1,28,28)\n",
        "    return x\n"
      ]
    },
    {
      "cell_type": "code",
      "execution_count": null,
      "metadata": {
        "colab": {
          "background_save": true,
          "base_uri": "https://localhost:8080/"
        },
        "id": "7ZSTN9oaqSCf",
        "outputId": "b7ef1190-0e01-407d-ac7f-95116ed06d86"
      },
      "outputs": [
        {
          "name": "stdout",
          "output_type": "stream",
          "text": [
            "0\n",
            "1\n",
            "2\n",
            "3\n",
            "4\n",
            "5\n"
          ]
        }
      ],
      "source": [
        "dis = Discriminator()\n",
        "gen = Generator()\n",
        "\n",
        "criterion = torch.nn.BCELoss()\n",
        "optimizer_dis = optim.Adam(dis.parameters(),lr=0.0001)\n",
        "optimizer_gen = optim.Adam(gen.parameters(),lr=0.0001)\n",
        "real_label = torch.tensor([1],dtype=torch.float32)\n",
        "fake_label = torch.tensor([0],dtype=torch.float32)\n",
        "dis_loss = []\n",
        "gen_loss = []\n",
        "\n",
        "for epochs in range(200):\n",
        "  print(epochs)\n",
        "  img = gen().detach().reshape((28,28))\n",
        "  plt.imsave(\"./images/\"+str(epochs)+\".png\",img)\n",
        "  c=1\n",
        "  for data in train_dataloader:\n",
        "    x_real,label = data\n",
        "    x_fake = gen()\n",
        "\n",
        "    #Discriminator train\n",
        "    optimizer_dis.zero_grad()\n",
        "    x_real_label = dis(x_real)\n",
        "    x_fake_label = dis(x_fake)\n",
        "    loss_dis = criterion(x_real_label,real_label)+criterion(x_fake_label,fake_label)\n",
        "    loss_dis.backward()\n",
        "    optimizer_dis.step()\n",
        "\n",
        "    #Generator train\n",
        "    optimizer_gen.zero_grad()\n",
        "    x_fake_label = dis(x_fake.detach())\n",
        "    loss_gen = criterion(x_fake_label,real_label)\n",
        "    loss_gen.backward()\n",
        "\n",
        "    optimizer_gen.step()\n",
        "    if(c%1000==0):\n",
        "      dis_loss.append(loss_dis)\n",
        "      gen_loss.append(loss_gen)\n",
        "    c+=1"
      ]
    },
    {
      "cell_type": "code",
      "execution_count": null,
      "metadata": {
        "colab": {
          "base_uri": "https://localhost:8080/",
          "height": 183
        },
        "id": "2zeS1to_64XL",
        "outputId": "1c6fac48-ffde-4887-bcc9-861e340165d8"
      },
      "outputs": [
        {
          "output_type": "error",
          "ename": "NameError",
          "evalue": "ignored",
          "traceback": [
            "\u001b[0;31m---------------------------------------------------------------------------\u001b[0m",
            "\u001b[0;31mNameError\u001b[0m                                 Traceback (most recent call last)",
            "\u001b[0;32m<ipython-input-1-803bc55b68f5>\u001b[0m in \u001b[0;36m<module>\u001b[0;34m\u001b[0m\n\u001b[0;32m----> 1\u001b[0;31m \u001b[0mimg\u001b[0m \u001b[0;34m=\u001b[0m \u001b[0mgen\u001b[0m\u001b[0;34m(\u001b[0m\u001b[0;34m)\u001b[0m\u001b[0;34m.\u001b[0m\u001b[0mdetach\u001b[0m\u001b[0;34m(\u001b[0m\u001b[0;34m)\u001b[0m\u001b[0;34m.\u001b[0m\u001b[0mreshape\u001b[0m\u001b[0;34m(\u001b[0m\u001b[0;34m(\u001b[0m\u001b[0;36m28\u001b[0m\u001b[0;34m,\u001b[0m\u001b[0;36m28\u001b[0m\u001b[0;34m)\u001b[0m\u001b[0;34m)\u001b[0m\u001b[0;34m\u001b[0m\u001b[0;34m\u001b[0m\u001b[0m\n\u001b[0m\u001b[1;32m      2\u001b[0m \u001b[0mplt\u001b[0m\u001b[0;34m.\u001b[0m\u001b[0mimshow\u001b[0m\u001b[0;34m(\u001b[0m\u001b[0mimg\u001b[0m\u001b[0;34m)\u001b[0m\u001b[0;34m\u001b[0m\u001b[0;34m\u001b[0m\u001b[0m\n",
            "\u001b[0;31mNameError\u001b[0m: name 'gen' is not defined"
          ]
        }
      ],
      "source": [
        "img = gen().detach().reshape((28,28))\n",
        "plt.imshow(img)"
      ]
    }
  ],
  "metadata": {
    "colab": {
      "provenance": []
    },
    "kernelspec": {
      "display_name": "Python 3",
      "name": "python3"
    },
    "language_info": {
      "name": "python"
    }
  },
  "nbformat": 4,
  "nbformat_minor": 0
}